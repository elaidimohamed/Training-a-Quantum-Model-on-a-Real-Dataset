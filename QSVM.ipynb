{
 "cells": [
  {
   "cell_type": "code",
   "execution_count": 3,
   "id": "9715fd60-31cc-49c2-93a1-4b8a94f231a7",
   "metadata": {},
   "outputs": [],
   "source": [
    "# Standard imports\n",
    "import numpy as np\n",
    "import pandas as pd\n",
    "import time\n",
    "import warnings\n",
    "\n",
    "# Qiskit \n",
    "from qiskit import QuantumCircuit, transpile\n",
    "from qiskit.circuit import Parameter\n",
    "from qiskit.circuit.library import ZZFeatureMap, RealAmplitudes, EfficientSU2\n",
    "from qiskit_machine_learning.algorithms.classifiers import NeuralNetworkClassifier, VQC\n",
    "from qiskit_machine_learning.algorithms.regressors import NeuralNetworkRegressor, VQR\n",
    "from qiskit_machine_learning.neural_networks import SamplerQNN, EstimatorQNN\n",
    "from qiskit_machine_learning.circuit.library import QNNCircuit\n",
    "from qiskit.primitives import Sampler\n",
    "from qiskit_algorithms.optimizers import COBYLA, L_BFGS_B, ADAM, SLSQP, AQGD\n",
    "from qiskit_algorithms.utils import algorithm_globals\n",
    "\n",
    "# Visualization libraries\n",
    "from matplotlib import pyplot as plt\n",
    "import seaborn as sns\n",
    "from qiskit.visualization import plot_histogram\n",
    "from IPython.display import clear_output\n",
    "\n",
    "# Machine learning and preprocessing\n",
    "from sklearn.datasets import load_iris\n",
    "from sklearn.model_selection import train_test_split\n",
    "from sklearn.preprocessing import StandardScaler, MinMaxScaler\n",
    "from sklearn.exceptions import ConvergenceWarning\n",
    "from sklearn.svm import SVC\n",
    "from sklearn.ensemble import RandomForestClassifier\n",
    "from sklearn.decomposition import PCA\n",
    "\n",
    "from functools import partial\n",
    "\n",
    "warnings.filterwarnings(action = \"ignore\")"
   ]
  },
  {
   "cell_type": "code",
   "execution_count": 15,
   "id": "eacfc77d-aca6-459c-84a8-00206af32897",
   "metadata": {},
   "outputs": [],
   "source": [
    "from sklearn.datasets import load_iris\n",
    "iris_data = load_iris()\n",
    "features = iris_data.data\n",
    "labels = iris_data.target\n",
    "full_features = iris_data.data "
   ]
  },
  {
   "cell_type": "code",
   "execution_count": 5,
   "id": "c303f8ec-ba49-4632-a97c-f5bbdfca2a63",
   "metadata": {},
   "outputs": [
    {
     "name": "stdout",
     "output_type": "stream",
     "text": [
      "load_iris preprocessed\n"
     ]
    }
   ],
   "source": [
    "from sklearn.datasets import load_iris\n",
    "from prepare_utils import data_preprocess\n",
    "\n",
    "dataset = load_iris\n",
    "X_train, X_test, y_train, y_test, num_features = data_preprocess(dataset)"
   ]
  },
  {
   "cell_type": "code",
   "execution_count": 7,
   "id": "71d7c2c1-6fe1-463e-823f-17a72cace5e4",
   "metadata": {},
   "outputs": [],
   "source": [
    "from qiskit.circuit.library import ZZFeatureMap\n",
    "from qiskit.primitives import Sampler\n",
    "from qiskit_algorithms.state_fidelities import ComputeUncompute\n",
    "from qiskit_machine_learning.kernels import FidelityQuantumKernel\n",
    "\n",
    "# Initialize feature map\n",
    "feature_map = ZZFeatureMap(feature_dimension = num_features,\n",
    "                           reps = 1,\n",
    "                           entanglement = \"linear\")\n",
    "\n",
    "# Define the sampler\n",
    "sampler = Sampler()\n",
    "\n",
    "# Compute fidelities\n",
    "fidelity = ComputeUncompute(sampler=sampler)\n",
    "\n",
    "# Create a quantum kernel\n",
    "kernel = FidelityQuantumKernel(fidelity=fidelity,\n",
    "                               feature_map=feature_map)"
   ]
  },
  {
   "cell_type": "code",
   "execution_count": 11,
   "id": "e35de55d-3696-4db1-a73d-24ae43438b5c",
   "metadata": {},
   "outputs": [
    {
     "name": "stdout",
     "output_type": "stream",
     "text": [
      "QSVC classification test score: 1.0\n"
     ]
    }
   ],
   "source": [
    "from qiskit_machine_learning.algorithms import QSVC\n",
    "\n",
    "qsvc_full = QSVC(quantum_kernel=kernel, probability=True)\n",
    "\n",
    "qsvc_full.fit(X_train, y_train)\n",
    "\n",
    "qsvc_score = qsvc_full.score(X_test, y_test)\n",
    "\n",
    "print(f\"QSVC classification test score: {qsvc_score}\")"
   ]
  },
  {
   "cell_type": "code",
   "execution_count": 12,
   "id": "40345012-0982-4ba6-83ee-0bd01f211b55",
   "metadata": {},
   "outputs": [
    {
     "data": {
      "text/html": [
       "<div>\n",
       "<style scoped>\n",
       "    .dataframe tbody tr th:only-of-type {\n",
       "        vertical-align: middle;\n",
       "    }\n",
       "\n",
       "    .dataframe tbody tr th {\n",
       "        vertical-align: top;\n",
       "    }\n",
       "\n",
       "    .dataframe thead th {\n",
       "        text-align: right;\n",
       "    }\n",
       "</style>\n",
       "<table border=\"1\" class=\"dataframe\">\n",
       "  <thead>\n",
       "    <tr style=\"text-align: right;\">\n",
       "      <th></th>\n",
       "      <th>precision</th>\n",
       "      <th>recall</th>\n",
       "      <th>f1-score</th>\n",
       "      <th>support</th>\n",
       "      <th>Model</th>\n",
       "    </tr>\n",
       "  </thead>\n",
       "  <tbody>\n",
       "    <tr>\n",
       "      <th>0</th>\n",
       "      <td>1.0</td>\n",
       "      <td>1.0</td>\n",
       "      <td>1.0</td>\n",
       "      <td>10.0</td>\n",
       "      <td>QSVC</td>\n",
       "    </tr>\n",
       "    <tr>\n",
       "      <th>1</th>\n",
       "      <td>1.0</td>\n",
       "      <td>1.0</td>\n",
       "      <td>1.0</td>\n",
       "      <td>10.0</td>\n",
       "      <td>QSVC</td>\n",
       "    </tr>\n",
       "    <tr>\n",
       "      <th>2</th>\n",
       "      <td>1.0</td>\n",
       "      <td>1.0</td>\n",
       "      <td>1.0</td>\n",
       "      <td>10.0</td>\n",
       "      <td>QSVC</td>\n",
       "    </tr>\n",
       "    <tr>\n",
       "      <th>accuracy</th>\n",
       "      <td>1.0</td>\n",
       "      <td>1.0</td>\n",
       "      <td>1.0</td>\n",
       "      <td>1.0</td>\n",
       "      <td>QSVC</td>\n",
       "    </tr>\n",
       "    <tr>\n",
       "      <th>macro avg</th>\n",
       "      <td>1.0</td>\n",
       "      <td>1.0</td>\n",
       "      <td>1.0</td>\n",
       "      <td>30.0</td>\n",
       "      <td>QSVC</td>\n",
       "    </tr>\n",
       "    <tr>\n",
       "      <th>weighted avg</th>\n",
       "      <td>1.0</td>\n",
       "      <td>1.0</td>\n",
       "      <td>1.0</td>\n",
       "      <td>30.0</td>\n",
       "      <td>QSVC</td>\n",
       "    </tr>\n",
       "  </tbody>\n",
       "</table>\n",
       "</div>"
      ],
      "text/plain": [
       "              precision  recall  f1-score  support Model\n",
       "0                   1.0     1.0       1.0     10.0  QSVC\n",
       "1                   1.0     1.0       1.0     10.0  QSVC\n",
       "2                   1.0     1.0       1.0     10.0  QSVC\n",
       "accuracy            1.0     1.0       1.0      1.0  QSVC\n",
       "macro avg           1.0     1.0       1.0     30.0  QSVC\n",
       "weighted avg        1.0     1.0       1.0     30.0  QSVC"
      ]
     },
     "execution_count": 12,
     "metadata": {},
     "output_type": "execute_result"
    }
   ],
   "source": [
    "from evaluation_utils import generate_classification_report\n",
    "\n",
    "generate_classification_report(qsvc_full, X_test, y_test, model_name=\"QSVC\")"
   ]
  },
  {
   "cell_type": "code",
   "execution_count": 17,
   "id": "e1b107a7-90f9-458d-bef5-7ccebec724ae",
   "metadata": {},
   "outputs": [
    {
     "name": "stdout",
     "output_type": "stream",
     "text": [
      "Full Features - QSVC classification test score: 1.0, Training time: 24.45 seconds\n",
      "Missing Sepal Length - QSVC classification test score: 1.0, Training time: 18.69 seconds\n",
      "Missing Sepal Width - QSVC classification test score: 1.0, Training time: 17.65 seconds\n",
      "Missing Petal Length - QSVC classification test score: 0.9666666666666667, Training time: 17.59 seconds\n",
      "Missing Petal Width - QSVC classification test score: 0.9666666666666667, Training time: 16.79 seconds\n"
     ]
    }
   ],
   "source": [
    "qsvc_scores = {}\n",
    "training_times = {}\n",
    "\n",
    "data_descriptions = [\"Full Features\", \"Missing Sepal Length\", \"Missing Sepal Width\", \"Missing Petal Length\",\n",
    "                     \"Missing Petal Width\"]\n",
    "\n",
    "for i, description in enumerate(data_descriptions):\n",
    "\n",
    "    if i == 0:\n",
    "        adjusted_features = full_features.copy()\n",
    "    else:\n",
    "        adjusted_features = np.delete(full_features, i - 1, axis = 1)\n",
    "\n",
    "    num_features = adjusted_features.shape[1]\n",
    "    adjusted_features = MinMaxScaler().fit_transform(adjusted_features)\n",
    "    X_train_subs, X_test_subs, y_train_subs, y_test_subs = train_test_split(\n",
    "        adjusted_features, labels,\n",
    "        train_size = 0.8, random_state = algorithm_globals.random_seed,\n",
    "        stratify = labels\n",
    "    )\n",
    "    feature_map = ZZFeatureMap(feature_dimension = num_features,\n",
    "                              reps = 1,\n",
    "                              entanglement = \"linear\")\n",
    "    kernel = FidelityQuantumKernel(\n",
    "        fidelity = fidelity,\n",
    "        feature_map = feature_map\n",
    "    )\n",
    "    qsvc = QSVC(quantum_kernel = kernel)\n",
    "\n",
    "    start_time = time.time()\n",
    "    qsvc.fit(X_train_subs, y_train_subs)\n",
    "    elapsed_time = time.time() - start_time\n",
    "    training_times[description] = elapsed_time\n",
    "\n",
    "    # Evaluate model performance\n",
    "    qsvc_score = qsvc.score(X_test_subs, y_test_subs)\n",
    "    qsvc_scores[description] = qsvc_score\n",
    "    \n",
    "    print(f\"{description} - QSVC classification test score: {qsvc_score}, Training time: {elapsed_time:.2f} seconds\")"
   ]
  },
  {
   "cell_type": "code",
   "execution_count": 19,
   "id": "cd66ce25-45ba-4bf5-93c0-a2d8bd1c1577",
   "metadata": {},
   "outputs": [
    {
     "data": {
      "text/html": [
       "<div>\n",
       "<style scoped>\n",
       "    .dataframe tbody tr th:only-of-type {\n",
       "        vertical-align: middle;\n",
       "    }\n",
       "\n",
       "    .dataframe tbody tr th {\n",
       "        vertical-align: top;\n",
       "    }\n",
       "\n",
       "    .dataframe thead th {\n",
       "        text-align: right;\n",
       "    }\n",
       "</style>\n",
       "<table border=\"1\" class=\"dataframe\">\n",
       "  <thead>\n",
       "    <tr style=\"text-align: right;\">\n",
       "      <th></th>\n",
       "      <th>Description</th>\n",
       "      <th>Test Score</th>\n",
       "    </tr>\n",
       "  </thead>\n",
       "  <tbody>\n",
       "    <tr>\n",
       "      <th>0</th>\n",
       "      <td>Full Features</td>\n",
       "      <td>1.000000</td>\n",
       "    </tr>\n",
       "    <tr>\n",
       "      <th>1</th>\n",
       "      <td>Missing Sepal Length</td>\n",
       "      <td>1.000000</td>\n",
       "    </tr>\n",
       "    <tr>\n",
       "      <th>2</th>\n",
       "      <td>Missing Sepal Width</td>\n",
       "      <td>1.000000</td>\n",
       "    </tr>\n",
       "    <tr>\n",
       "      <th>3</th>\n",
       "      <td>Missing Petal Length</td>\n",
       "      <td>0.966667</td>\n",
       "    </tr>\n",
       "    <tr>\n",
       "      <th>4</th>\n",
       "      <td>Missing Petal Width</td>\n",
       "      <td>0.966667</td>\n",
       "    </tr>\n",
       "  </tbody>\n",
       "</table>\n",
       "</div>"
      ],
      "text/plain": [
       "            Description  Test Score\n",
       "0         Full Features    1.000000\n",
       "1  Missing Sepal Length    1.000000\n",
       "2   Missing Sepal Width    1.000000\n",
       "3  Missing Petal Length    0.966667\n",
       "4   Missing Petal Width    0.966667"
      ]
     },
     "execution_count": 19,
     "metadata": {},
     "output_type": "execute_result"
    }
   ],
   "source": [
    "df = pd.DataFrame(list(qsvc_scores.items()), columns=['Description', 'Test Score'])\n",
    "df"
   ]
  },
  {
   "cell_type": "code",
   "execution_count": 26,
   "id": "f85431e9-bb28-476b-a67f-511047e9984a",
   "metadata": {},
   "outputs": [
    {
     "data": {
      "image/png": "[encoded data removed]",
      "text/plain": [
       "<Figure size 1000x600 with 1 Axes>"
      ]
     },
     "metadata": {},
     "output_type": "display_data"
    }
   ],
   "source": [
    "plt.figure(figsize=(10, 6))  # Set the size of the figure\n",
    "\n",
    "sns.barplot(y='Description', x='Test Score', data=df, palette='viridis')\n",
    "plt.axvline(x=1.0, color='red', linestyle='--', linewidth=2)\n",
    "plt.axvline(x=0.8, color='blue', linestyle='--', linewidth=2)\n",
    "\n",
    "plt.title('Test Scores for Different Feature Combinations')\n",
    "plt.xlabel('Description')\n",
    "plt.ylabel('Test Score')\n",
    "\n",
    "plt.xticks(rotation=45, ha='right')\n",
    "\n",
    "plt.grid(axis='y', linewidth=0.4)\n",
    "plt.show()"
   ]
  },
  {
   "cell_type": "code",
   "execution_count": 28,
   "id": "f433da06-74dd-430c-8fc9-7a7cd848c067",
   "metadata": {},
   "outputs": [],
   "source": [
    "#qsvc_full.save('quantum_classifiers/qsvc-zzfeaturemap-linear.model')"
   ]
  },
  {
   "cell_type": "code",
   "execution_count": null,
   "id": "c3a7d614-022e-4cb6-9c4b-d3cc500a4468",
   "metadata": {},
   "outputs": [],
   "source": []
  }
 ],
 "metadata": {
  "kernelspec": {
   "display_name": "qml",
   "language": "python",
   "name": "quantum-ml"
  },
  "language_info": {
   "codemirror_mode": {
    "name": "ipython",
    "version": 3
   },
   "file_extension": ".py",
   "mimetype": "text/x-python",
   "name": "python",
   "nbconvert_exporter": "python",
   "pygments_lexer": "ipython3",
   "version": "3.9.20"
  }
 },
 "nbformat": 4,
 "nbformat_minor": 5
}
